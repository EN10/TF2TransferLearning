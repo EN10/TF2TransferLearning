{
  "nbformat": 4,
  "nbformat_minor": 0,
  "metadata": {
    "accelerator": "GPU",
    "colab": {
      "name": "transfer_learning cats&dogs reloaded.ipynb",
      "provenance": [],
      "collapsed_sections": []
    },
    "kernelspec": {
      "display_name": "Python 3",
      "name": "python3"
    }
  },
  "cells": [
    {
      "cell_type": "code",
      "metadata": {
        "id": "VoENcMqH_C1T"
      },
      "source": [
        "# Based on https://www.tensorflow.org/tutorials/images/transfer_learning"
      ],
      "execution_count": null,
      "outputs": []
    },
    {
      "cell_type": "code",
      "metadata": {
        "id": "TqOt6Sv7AsMi"
      },
      "source": [
        "import matplotlib.pyplot as plt\n",
        "import numpy as np\n",
        "import os\n",
        "import tensorflow as tf\n",
        "from tensorflow.keras.preprocessing import image_dataset_from_directory"
      ],
      "execution_count": 1,
      "outputs": []
    },
    {
      "cell_type": "code",
      "metadata": {
        "id": "SYxCkyCj1ffb"
      },
      "source": [
        "from google.colab import drive\n",
        "drive.mount('/content/drive')\n",
        "# Mount Drive\n",
        "!unzip /content/drive/MyDrive/TransferLearnImages.zip\n",
        "\n",
        "!mv ./TransferLearnImages ./train\n",
        "!mkdir -p ./validation/Football\n",
        "!mkdir -p ./validation/Racket\n",
        "!mv ./train/Football/*1* ./validation/Football/\n",
        "!mv ./train/Racket/*1* ./validation/Racket/"
      ],
      "execution_count": null,
      "outputs": []
    },
    {
      "cell_type": "code",
      "metadata": {
        "colab": {
          "base_uri": "https://localhost:8080/"
        },
        "id": "B1eh0hx4w5zQ",
        "outputId": "f9ce1e98-3c66-4f78-8814-870ce3f31741"
      },
      "source": [
        "PATH = \"/content/\"\r\n",
        "\r\n",
        "train_dir = os.path.join(PATH, 'train')\r\n",
        "validation_dir = os.path.join(PATH, 'validation')\r\n",
        "\r\n",
        "BATCH_SIZE = 32\r\n",
        "IMG_SIZE = (160, 160)\r\n",
        "\r\n",
        "train_dataset = image_dataset_from_directory(train_dir,\r\n",
        "                                             shuffle=True,\r\n",
        "                                             batch_size=BATCH_SIZE,\r\n",
        "                                             image_size=IMG_SIZE)\r\n",
        "\r\n",
        "validation_dataset = image_dataset_from_directory(validation_dir,\r\n",
        "                                                  shuffle=True,\r\n",
        "                                                  batch_size=BATCH_SIZE,\r\n",
        "                                                  image_size=IMG_SIZE)\r\n",
        "class_names = train_dataset.class_names"
      ],
      "execution_count": 88,
      "outputs": [
        {
          "output_type": "stream",
          "text": [
            "Found 149 files belonging to 2 classes.\n",
            "Found 39 files belonging to 2 classes.\n"
          ],
          "name": "stdout"
        }
      ]
    },
    {
      "cell_type": "code",
      "metadata": {
        "id": "0Ddq4kFcyMh_"
      },
      "source": [
        "AUTOTUNE = tf.data.experimental.AUTOTUNE\r\n",
        "train_dataset = train_dataset.prefetch(buffer_size=AUTOTUNE)\r\n",
        "validation_dataset = validation_dataset.prefetch(buffer_size=AUTOTUNE)"
      ],
      "execution_count": 7,
      "outputs": []
    },
    {
      "cell_type": "code",
      "metadata": {
        "id": "3P99QiMGit1A"
      },
      "source": [
        "data_augmentation = tf.keras.Sequential([\n",
        "  tf.keras.layers.experimental.preprocessing.RandomFlip('horizontal'),\n",
        "  tf.keras.layers.experimental.preprocessing.RandomRotation(0.2),\n",
        "])"
      ],
      "execution_count": 8,
      "outputs": []
    },
    {
      "cell_type": "code",
      "metadata": {
        "id": "cO0HM9JAQUFq"
      },
      "source": [
        "preprocess_input = tf.keras.applications.mobilenet_v2.preprocess_input\r\n",
        "\r\n",
        "rescale = tf.keras.layers.experimental.preprocessing.Rescaling(1./127.5, offset= -1)"
      ],
      "execution_count": 9,
      "outputs": []
    },
    {
      "cell_type": "code",
      "metadata": {
        "id": "19IQ2gqneqmS",
        "colab": {
          "base_uri": "https://localhost:8080/"
        },
        "outputId": "e2b79bec-7035-4a2c-fef7-f7ef31016ba7"
      },
      "source": [
        "# Create the base model from the pre-trained model MobileNet V2\n",
        "IMG_SHAPE = IMG_SIZE + (3,)\n",
        "base_model = tf.keras.applications.MobileNetV2(input_shape=IMG_SHAPE,\n",
        "                                               include_top=False,\n",
        "                                               weights='imagenet')"
      ],
      "execution_count": 11,
      "outputs": [
        {
          "output_type": "stream",
          "text": [
            "Downloading data from https://storage.googleapis.com/tensorflow/keras-applications/mobilenet_v2/mobilenet_v2_weights_tf_dim_ordering_tf_kernels_1.0_160_no_top.h5\n",
            "9412608/9406464 [==============================] - 0s 0us/step\n"
          ],
          "name": "stdout"
        }
      ]
    },
    {
      "cell_type": "code",
      "metadata": {
        "id": "Y-2LJL0EEUcx",
        "colab": {
          "base_uri": "https://localhost:8080/"
        },
        "outputId": "80692947-8703-4bf8-e939-f11bd9868288"
      },
      "source": [
        "image_batch, label_batch = next(iter(train_dataset))\n",
        "feature_batch = base_model(image_batch)\n",
        "print(feature_batch.shape)"
      ],
      "execution_count": 12,
      "outputs": [
        {
          "output_type": "stream",
          "text": [
            "(32, 5, 5, 1280)\n"
          ],
          "name": "stdout"
        }
      ]
    },
    {
      "cell_type": "code",
      "metadata": {
        "id": "OTCJH4bphOeo"
      },
      "source": [
        "base_model.trainable = False"
      ],
      "execution_count": 13,
      "outputs": []
    },
    {
      "cell_type": "code",
      "metadata": {
        "id": "dLnpMF5KOALm",
        "colab": {
          "base_uri": "https://localhost:8080/"
        },
        "outputId": "61587145-be3e-411d-be82-af4daba428f5"
      },
      "source": [
        "global_average_layer = tf.keras.layers.GlobalAveragePooling2D()\n",
        "feature_batch_average = global_average_layer(feature_batch)\n",
        "print(feature_batch_average.shape)"
      ],
      "execution_count": 14,
      "outputs": [
        {
          "output_type": "stream",
          "text": [
            "(32, 1280)\n"
          ],
          "name": "stdout"
        }
      ]
    },
    {
      "cell_type": "code",
      "metadata": {
        "id": "Wv4afXKj6cVa",
        "colab": {
          "base_uri": "https://localhost:8080/"
        },
        "outputId": "93d4daa9-d754-4624-917e-8e8d918028b1"
      },
      "source": [
        "prediction_layer = tf.keras.layers.Dense(1)\n",
        "prediction_batch = prediction_layer(feature_batch_average)\n",
        "print(prediction_batch.shape)"
      ],
      "execution_count": 15,
      "outputs": [
        {
          "output_type": "stream",
          "text": [
            "(32, 1)\n"
          ],
          "name": "stdout"
        }
      ]
    },
    {
      "cell_type": "code",
      "metadata": {
        "id": "DgzQX6Veb2WT"
      },
      "source": [
        "inputs = tf.keras.Input(shape=(160, 160, 3))\n",
        "x = data_augmentation(inputs)\n",
        "x = preprocess_input(x)\n",
        "x = base_model(x, training=False)\n",
        "x = global_average_layer(x)\n",
        "x = tf.keras.layers.Dropout(0.2)(x)\n",
        "outputs = prediction_layer(x)\n",
        "model = tf.keras.Model(inputs, outputs)"
      ],
      "execution_count": 16,
      "outputs": []
    },
    {
      "cell_type": "code",
      "metadata": {
        "id": "RpR8HdyMhukJ"
      },
      "source": [
        "base_learning_rate = 0.0001\n",
        "model.compile(optimizer=tf.keras.optimizers.Adam(lr=base_learning_rate),\n",
        "              loss=tf.keras.losses.BinaryCrossentropy(from_logits=True),\n",
        "              metrics=['accuracy'])"
      ],
      "execution_count": 17,
      "outputs": []
    },
    {
      "cell_type": "code",
      "metadata": {
        "id": "Om4O3EESkab1",
        "colab": {
          "base_uri": "https://localhost:8080/"
        },
        "outputId": "ce85fe9e-9d79-4ea4-d90f-fb0639172b39"
      },
      "source": [
        "initial_epochs = 10\r\n",
        "loss0, accuracy0 = model.evaluate(validation_dataset)"
      ],
      "execution_count": 21,
      "outputs": [
        {
          "output_type": "stream",
          "text": [
            "2/2 [==============================] - 0s 103ms/step - loss: 0.6086 - accuracy: 0.5641\n"
          ],
          "name": "stdout"
        }
      ]
    },
    {
      "cell_type": "code",
      "metadata": {
        "id": "JsaRFlZ9B6WK",
        "colab": {
          "base_uri": "https://localhost:8080/"
        },
        "outputId": "02e1acf1-f758-4b48-fcba-9b2c9a4b0cd1"
      },
      "source": [
        "history = model.fit(train_dataset,\n",
        "                    epochs=initial_epochs,\n",
        "                    validation_data=validation_dataset)"
      ],
      "execution_count": 22,
      "outputs": [
        {
          "output_type": "stream",
          "text": [
            "Epoch 1/10\n",
            "5/5 [==============================] - 0s 49ms/step - loss: 0.6504 - accuracy: 0.6376 - val_loss: 0.5804 - val_accuracy: 0.5897\n",
            "Epoch 2/10\n",
            "5/5 [==============================] - 0s 46ms/step - loss: 0.6183 - accuracy: 0.7047 - val_loss: 0.5545 - val_accuracy: 0.6410\n",
            "Epoch 3/10\n",
            "5/5 [==============================] - 0s 42ms/step - loss: 0.5501 - accuracy: 0.7584 - val_loss: 0.5307 - val_accuracy: 0.6667\n",
            "Epoch 4/10\n",
            "5/5 [==============================] - 0s 42ms/step - loss: 0.5525 - accuracy: 0.7114 - val_loss: 0.5088 - val_accuracy: 0.7436\n",
            "Epoch 5/10\n",
            "5/5 [==============================] - 0s 44ms/step - loss: 0.5314 - accuracy: 0.7584 - val_loss: 0.4883 - val_accuracy: 0.7436\n",
            "Epoch 6/10\n",
            "5/5 [==============================] - 0s 44ms/step - loss: 0.5358 - accuracy: 0.7248 - val_loss: 0.4679 - val_accuracy: 0.7436\n",
            "Epoch 7/10\n",
            "5/5 [==============================] - 0s 39ms/step - loss: 0.4824 - accuracy: 0.7315 - val_loss: 0.4484 - val_accuracy: 0.7949\n",
            "Epoch 8/10\n",
            "5/5 [==============================] - 0s 45ms/step - loss: 0.4788 - accuracy: 0.7852 - val_loss: 0.4293 - val_accuracy: 0.7949\n",
            "Epoch 9/10\n",
            "5/5 [==============================] - 0s 45ms/step - loss: 0.4361 - accuracy: 0.8255 - val_loss: 0.4115 - val_accuracy: 0.8205\n",
            "Epoch 10/10\n",
            "5/5 [==============================] - 0s 41ms/step - loss: 0.4335 - accuracy: 0.8523 - val_loss: 0.3951 - val_accuracy: 0.8205\n"
          ],
          "name": "stdout"
        }
      ]
    },
    {
      "cell_type": "code",
      "metadata": {
        "id": "4nzcagVitLQm"
      },
      "source": [
        "base_model.trainable = True"
      ],
      "execution_count": 23,
      "outputs": []
    },
    {
      "cell_type": "code",
      "metadata": {
        "id": "-4HgVAacRs5v",
        "colab": {
          "base_uri": "https://localhost:8080/"
        },
        "outputId": "fd0e2fde-a46c-475b-e662-64d8dff153a5"
      },
      "source": [
        "# Let's take a look to see how many layers are in the base model\n",
        "print(\"Number of layers in the base model: \", len(base_model.layers))\n",
        "\n",
        "# Fine-tune from this layer onwards\n",
        "fine_tune_at = 100\n",
        "\n",
        "# Freeze all the layers before the `fine_tune_at` layer\n",
        "for layer in base_model.layers[:fine_tune_at]:\n",
        "  layer.trainable =  False"
      ],
      "execution_count": 24,
      "outputs": [
        {
          "output_type": "stream",
          "text": [
            "Number of layers in the base model:  155\n"
          ],
          "name": "stdout"
        }
      ]
    },
    {
      "cell_type": "code",
      "metadata": {
        "id": "NtUnaz0WUDva"
      },
      "source": [
        "model.compile(loss=tf.keras.losses.BinaryCrossentropy(from_logits=True),\n",
        "              optimizer = tf.keras.optimizers.RMSprop(lr=base_learning_rate/10),\n",
        "              metrics=['accuracy'])"
      ],
      "execution_count": 25,
      "outputs": []
    },
    {
      "cell_type": "code",
      "metadata": {
        "id": "ECQLkAsFTlun",
        "colab": {
          "base_uri": "https://localhost:8080/"
        },
        "outputId": "1948e765-2599-447b-dabf-04d8b366e62d"
      },
      "source": [
        "fine_tune_epochs = 10\n",
        "total_epochs =  initial_epochs + fine_tune_epochs\n",
        "\n",
        "history_fine = model.fit(train_dataset,\n",
        "                         epochs=total_epochs,\n",
        "                         initial_epoch=history.epoch[-1],\n",
        "                         validation_data=validation_dataset)"
      ],
      "execution_count": 28,
      "outputs": [
        {
          "output_type": "stream",
          "text": [
            "Epoch 10/20\n",
            "5/5 [==============================] - 1s 183ms/step - loss: 0.0037 - accuracy: 1.0000 - val_loss: 0.0174 - val_accuracy: 1.0000\n",
            "Epoch 11/20\n",
            "5/5 [==============================] - 0s 54ms/step - loss: 0.0021 - accuracy: 1.0000 - val_loss: 0.0157 - val_accuracy: 1.0000\n",
            "Epoch 12/20\n",
            "5/5 [==============================] - 0s 50ms/step - loss: 0.0017 - accuracy: 1.0000 - val_loss: 0.0146 - val_accuracy: 1.0000\n",
            "Epoch 13/20\n",
            "5/5 [==============================] - 0s 51ms/step - loss: 9.8723e-04 - accuracy: 1.0000 - val_loss: 0.0125 - val_accuracy: 1.0000\n",
            "Epoch 14/20\n",
            "5/5 [==============================] - 0s 58ms/step - loss: 0.0011 - accuracy: 1.0000 - val_loss: 0.0139 - val_accuracy: 1.0000\n",
            "Epoch 15/20\n",
            "5/5 [==============================] - 0s 55ms/step - loss: 0.0012 - accuracy: 1.0000 - val_loss: 0.0122 - val_accuracy: 1.0000\n",
            "Epoch 16/20\n",
            "5/5 [==============================] - 0s 54ms/step - loss: 3.9817e-04 - accuracy: 1.0000 - val_loss: 0.0117 - val_accuracy: 1.0000\n",
            "Epoch 17/20\n",
            "5/5 [==============================] - 0s 56ms/step - loss: 5.6107e-04 - accuracy: 1.0000 - val_loss: 0.0117 - val_accuracy: 1.0000\n",
            "Epoch 18/20\n",
            "5/5 [==============================] - 0s 51ms/step - loss: 9.4691e-04 - accuracy: 1.0000 - val_loss: 0.0249 - val_accuracy: 1.0000\n",
            "Epoch 19/20\n",
            "5/5 [==============================] - 0s 51ms/step - loss: 5.8004e-04 - accuracy: 1.0000 - val_loss: 0.0156 - val_accuracy: 1.0000\n",
            "Epoch 20/20\n",
            "5/5 [==============================] - 0s 55ms/step - loss: 2.7880e-04 - accuracy: 1.0000 - val_loss: 0.0118 - val_accuracy: 1.0000\n"
          ],
          "name": "stdout"
        }
      ]
    },
    {
      "cell_type": "code",
      "metadata": {
        "colab": {
          "base_uri": "https://localhost:8080/",
          "height": 473
        },
        "id": "hm9eWdjSzXmZ",
        "outputId": "bdae8101-1387-406a-e30b-b02b225635fd"
      },
      "source": [
        "# test model with new image\r\n",
        "!wget -O image.jpg https://image.shutterstock.com/image-photo/soccer-ball-isolated-on-white-260nw-400438939.jpg\r\n",
        "#!wget -O image.jpg https://www.tennisnuts.com/images/product/full/102334-136_babolat-pure-drive_angle.jpg\r\n",
        "\r\n",
        "# process image for model\r\n",
        "\r\n",
        "img = image.load_img('image.jpg', target_size=IMG_SIZE)\r\n",
        "x = image.img_to_array(img)\r\n",
        "x = backend.expand_dims(x, axis=0)\r\n",
        "\r\n",
        "# display image\r\n",
        "import matplotlib.pyplot as plt\r\n",
        "plt.imshow(img)\r\n",
        "\r\n",
        "# run prediction\r\n",
        "prediction = model.predict(x)\r\n",
        "prediction = tf.nn.sigmoid(prediction)\r\n",
        "prediction = tf.where(prediction < 0.5, 0, 1)\r\n",
        "print(class_names[prediction.numpy()[0][0]])"
      ],
      "execution_count": 87,
      "outputs": [
        {
          "output_type": "stream",
          "text": [
            "--2020-12-11 22:40:47--  https://image.shutterstock.com/image-photo/soccer-ball-isolated-on-white-260nw-400438939.jpg\n",
            "Resolving image.shutterstock.com (image.shutterstock.com)... 23.36.53.150\n",
            "Connecting to image.shutterstock.com (image.shutterstock.com)|23.36.53.150|:443... connected.\n",
            "HTTP request sent, awaiting response... 200 OK\n",
            "Length: 9309 (9.1K) [image/jpeg]\n",
            "Saving to: ‘image.jpg’\n",
            "\n",
            "\rimage.jpg             0%[                    ]       0  --.-KB/s               \rimage.jpg           100%[===================>]   9.09K  --.-KB/s    in 0s      \n",
            "\n",
            "2020-12-11 22:40:47 (139 MB/s) - ‘image.jpg’ saved [9309/9309]\n",
            "\n",
            "Football\n"
          ],
          "name": "stdout"
        },
        {
          "output_type": "display_data",
          "data": {
            "image/png": "[encoded data removed]",
            "text/plain": [
              "<Figure size 432x288 with 1 Axes>"
            ]
          },
          "metadata": {
            "tags": [],
            "needs_background": "light"
          }
        }
      ]
    }
  ]
}